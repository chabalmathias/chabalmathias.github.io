{
 "cells": [
  {
   "cell_type": "code",
   "id": "initial_id",
   "metadata": {
    "collapsed": true,
    "ExecuteTime": {
     "end_time": "2025-07-19T16:17:53.278993Z",
     "start_time": "2025-07-19T16:17:53.241610Z"
    }
   },
   "source": "from bs4 import BeautifulSoup",
   "outputs": [],
   "execution_count": 1
  },
  {
   "metadata": {
    "ExecuteTime": {
     "end_time": "2025-07-19T16:17:53.327664Z",
     "start_time": "2025-07-19T16:17:53.324775Z"
    }
   },
   "cell_type": "code",
   "source": [
    "def modifier_multiples_titres(fichier_html, modifications):\n",
    "    \"\"\"\n",
    "    Modifie plusieurs titres de balises <summary> en une seule fois\n",
    "\n",
    "    Args:\n",
    "        fichier_html (str): Chemin vers le fichier HTML\n",
    "        modifications (dict): Dictionnaire {id_section: nouveau_titre}\n",
    "    \"\"\"\n",
    "\n",
    "    # Lire le fichier HTML\n",
    "    with open(fichier_html, 'r', encoding='utf-8') as f:\n",
    "        contenu = f.read()\n",
    "\n",
    "    # Parser le HTML avec BeautifulSoup\n",
    "    soup = BeautifulSoup(contenu, 'html.parser')\n",
    "\n",
    "    for heading in soup.find_all('div', class_='quarto-title-meta-heading'):\n",
    "        if heading.get_text().strip() == 'Author':\n",
    "            heading.string = 'Auteur :'\n",
    "\n",
    "        elif heading.get_text().strip() == 'Published':\n",
    "            heading.string = 'Publié le :'\n",
    "\n",
    "    modifications_reussies = []\n",
    "    modifications_echouees = []\n",
    "\n",
    "    for id_section, nouveau_titre in modifications.items():\n",
    "        # Trouver l'élément avec l'ID spécifié\n",
    "        section = soup.find(id=id_section)\n",
    "\n",
    "        if section is None:\n",
    "            modifications_echouees.append(f\"ID '{id_section}' non trouvé\")\n",
    "            continue\n",
    "\n",
    "        # Chercher la balise <summary> dans cette section\n",
    "        summary = section.find('summary')\n",
    "\n",
    "        if summary is None:\n",
    "            modifications_echouees.append(f\"Pas de <summary> dans '{id_section}'\")\n",
    "            continue\n",
    "\n",
    "        # Modifier le contenu\n",
    "        summary.string = nouveau_titre\n",
    "        modifications_reussies.append(f\"'{id_section}' -> '{nouveau_titre}'\")\n",
    "\n",
    "    # Sauvegarder le fichier modifié\n",
    "    with open(fichier_html, 'w', encoding='utf-8') as f:\n",
    "        f.write(str(soup))\n",
    "\n",
    "    # Afficher les résultats\n",
    "    if modifications_reussies:\n",
    "        print(\"Modifications réussies :\")\n",
    "        for modif in modifications_reussies:\n",
    "            print(f\"  ✓ {modif}\")\n",
    "\n",
    "    if modifications_echouees:\n",
    "        print(\"Modifications échouées :\")\n",
    "        for echec in modifications_echouees:\n",
    "            print(f\"  ✗ {echec}\")\n"
   ],
   "id": "b0c77b040e30374",
   "outputs": [],
   "execution_count": 2
  },
  {
   "metadata": {
    "ExecuteTime": {
     "end_time": "2025-07-19T16:44:14.382631Z",
     "start_time": "2025-07-19T16:44:14.364695Z"
    }
   },
   "cell_type": "code",
   "source": [
    "nouveaux_titres = {\"import\": \"Code pour l'import des librairies\",\n",
    "                   \"graph\": \"Code de création du graphique\",\n",
    "                   \"map\": \"Code de création de la carte\",\n",
    "                   \"cell-image\": \"Code de l'affichage de l'image\"}\n",
    "\n",
    "modifier_multiples_titres('index.html', nouveaux_titres)"
   ],
   "id": "590e6c7d41df8e10",
   "outputs": [
    {
     "name": "stdout",
     "output_type": "stream",
     "text": [
      "Modifications réussies :\n",
      "  ✓ 'import' -> 'Code pour l'import des librairies'\n",
      "  ✓ 'graph' -> 'Code de création du graphique'\n",
      "  ✓ 'cell-image' -> 'Code de l'affichage de l'image'\n",
      "Modifications échouées :\n",
      "  ✗ ID 'map' non trouvé\n"
     ]
    }
   ],
   "execution_count": 7
  },
  {
   "metadata": {},
   "cell_type": "code",
   "outputs": [],
   "execution_count": null,
   "source": "",
   "id": "a3ad97c36bfd12f1"
  }
 ],
 "metadata": {
  "kernelspec": {
   "display_name": "Python 3",
   "language": "python",
   "name": "python3"
  },
  "language_info": {
   "codemirror_mode": {
    "name": "ipython",
    "version": 2
   },
   "file_extension": ".py",
   "mimetype": "text/x-python",
   "name": "python",
   "nbconvert_exporter": "python",
   "pygments_lexer": "ipython2",
   "version": "2.7.6"
  }
 },
 "nbformat": 4,
 "nbformat_minor": 5
}
